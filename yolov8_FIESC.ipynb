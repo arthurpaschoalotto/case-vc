{
  "nbformat": 4,
  "nbformat_minor": 0,
  "metadata": {
    "colab": {
      "private_outputs": true,
      "provenance": [],
      "gpuType": "T4",
      "authorship_tag": "ABX9TyPJqMy/E6GHMrda6NrnPqb3",
      "include_colab_link": true
    },
    "kernelspec": {
      "name": "python3",
      "display_name": "Python 3"
    },
    "language_info": {
      "name": "python"
    },
    "accelerator": "GPU"
  },
  "cells": [
    {
      "cell_type": "markdown",
      "metadata": {
        "id": "view-in-github",
        "colab_type": "text"
      },
      "source": [
        "<a href=\"https://colab.research.google.com/github/arthurpaschoalotto/case-vc/blob/main/yolov8_FIESC.ipynb\" target=\"_parent\"><img src=\"https://colab.research.google.com/assets/colab-badge.svg\" alt=\"Open In Colab\"/></a>"
      ]
    },
    {
      "cell_type": "markdown",
      "source": [
        "## TREINAMENTO FEITO NO GOOGLE COLAB"
      ],
      "metadata": {
        "id": "I2lyJA2EKH4D"
      }
    },
    {
      "cell_type": "code",
      "source": [
        "from google.colab import drive\n",
        "drive.mount('/content/drive')\n"
      ],
      "metadata": {
        "id": "jsr2sbMkJXov"
      },
      "execution_count": null,
      "outputs": []
    },
    {
      "cell_type": "code",
      "source": [
        "!pip install supervision\n",
        "!pip install ultralytics"
      ],
      "metadata": {
        "id": "o-ROIXK1J_JJ"
      },
      "execution_count": null,
      "outputs": []
    },
    {
      "cell_type": "code",
      "source": [
        "# Bibliotecas utilizados no desenvolvimento\n",
        "import cv2\n",
        "from collections import defaultdict\n",
        "import supervision as sv\n",
        "from ultralytics import YOLO, settings\n",
        "import numpy as np\n",
        "from IPython.display import display, clear_output\n",
        "import PIL.Image\n",
        "import io"
      ],
      "metadata": {
        "id": "EfFosn8sJY6c"
      },
      "execution_count": null,
      "outputs": []
    },
    {
      "cell_type": "code",
      "source": [
        "# Load a model\n",
        "model = YOLO('yolov8m-seg.yaml')  # build a new model from YAML\n",
        "\n",
        "model.train(\n",
        "    data='/content/drive/MyDrive/fiesc/data.yaml',\n",
        "    epochs=200,\n",
        "    batch=32,\n",
        "    project='/content/drive/MyDrive/fiesc/'\n",
        ")\n",
        ""
      ],
      "metadata": {
        "id": "3g_gAAr5J9Yh"
      },
      "execution_count": null,
      "outputs": []
    },
    {
      "cell_type": "code",
      "source": [],
      "metadata": {
        "id": "yGgFX6lucuds"
      },
      "execution_count": null,
      "outputs": []
    }
  ]
}